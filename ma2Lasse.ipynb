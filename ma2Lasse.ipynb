{
 "cells": [
  {
   "cell_type": "code",
   "execution_count": null,
   "metadata": {},
   "outputs": [],
   "source": [
    "import numpy as np \n",
    "def finiteDifference(lossFunction, params, paramIndex, epsilon, *args):\n",
    "    forward = np.array(params, copy=True)\n",
    "    backward = np.array(params, copy=True)\n",
    "    forward[paramIndex] += epsilon\n",
    "    backward[paramIndex] -= epsilon\n",
    "    forward_loss = lossFunction(forward, *args)\n",
    "    backward_loss = lossFunction(backward, *args)\n",
    "    gradient = (forward_loss - backward_loss) / (2 * epsilon)\n",
    "    return gradient"
   ]
  }
 ],
 "metadata": {
  "language_info": {
   "name": "python"
  }
 },
 "nbformat": 4,
 "nbformat_minor": 2
}
