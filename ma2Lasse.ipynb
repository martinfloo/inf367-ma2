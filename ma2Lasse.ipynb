{
 "cells": [
  {
   "cell_type": "code",
   "execution_count": null,
   "metadata": {},
   "outputs": [],
   "source": [
    "import numpy as np \n",
    "def finiteDifference(lossFunction, params, paramIndex, epsilon, *args):\n",
    "    forward = np.array(params, copy=True)\n",
    "    backward = np.array(params, copy=True)\n",
    "    forward[paramIndex] += epsilon\n",
    "    backward[paramIndex] -= epsilon\n",
    "    forward_loss = lossFunction(forward, *args)\n",
    "    backward_loss = lossFunction(backward, *args)\n",
    "    gradient = (forward_loss - backward_loss) / (2 * epsilon)\n",
    "    return gradient"
   ]
  },
  {
   "cell_type": "code",
   "execution_count": null,
   "metadata": {},
   "outputs": [],
   "source": [
    "def updateParam(param, gradient, learningRate):\n",
    "    return param - learningRate * gradient"
   ]
  },
  {
   "cell_type": "code",
   "execution_count": null,
   "metadata": {},
   "outputs": [],
   "source": [
    "def decoding(result, circuit, shots): \n",
    "    counts = result.get_counts(circuit) # counts from the execution of the circuit\n",
    "    probabilities = np.zeros(3) # array to store the probabilities of the classes\n",
    "    \n",
    "    for bitstring, count in counts.items():\n",
    "        classIndex = int(bitstring, 2) % 3 # convert bitstring to integer 0, 1 or 2\n",
    "        probabilities[classIndex] += count / shots # add the probability of the class\n",
    "    \n",
    "    probabilities /= np.sum(probabilities) # Ensuring normalization\n",
    "    return probabilities\n",
    "\n"
   ]
  }
 ],
 "metadata": {
  "kernelspec": {
   "display_name": "inf367",
   "language": "python",
   "name": "python3"
  },
  "language_info": {
   "name": "python",
   "version": "3.11.9"
  }
 },
 "nbformat": 4,
 "nbformat_minor": 2
}
