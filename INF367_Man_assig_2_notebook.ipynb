{
 "cells": [
  {
   "cell_type": "markdown",
   "id": "63a3588a",
   "metadata": {},
   "source": [
    "## INF367 Mandatory Assignment 2\n",
    "\n",
    "<p style=\"text-align:right;\"><b>Written by:</b> Tobias Husebø, Lasse Holt, Martin Flo Øfstaas</p>\n",
    "    <p style=\"text-align:right;\"><i>Due: 8th of November 2024, (12:00)</i></p>\n",
    "    \n",
    "---\n",
    "\n",
    "### Data exploration:\n"
   ]
  },
  {
   "cell_type": "code",
   "execution_count": null,
   "id": "01a18919",
   "metadata": {},
   "outputs": [],
   "source": []
  }
 ],
 "metadata": {
  "kernelspec": {
   "display_name": "Python 3 (ipykernel)",
   "language": "python",
   "name": "python3"
  },
  "language_info": {
   "codemirror_mode": {
    "name": "ipython",
    "version": 3
   },
   "file_extension": ".py",
   "mimetype": "text/x-python",
   "name": "python",
   "nbconvert_exporter": "python",
   "pygments_lexer": "ipython3",
   "version": "3.10.12"
  }
 },
 "nbformat": 4,
 "nbformat_minor": 5
}
