{
 "cells": [
  {
   "cell_type": "markdown",
   "id": "63a3588a",
   "metadata": {},
   "source": [
    "## INF367 Mandatory Assignment 2\n",
    "\n",
    "<p style=\"text-align:right;\"><b>Written by:</b> Tobias Husebø, Lasse Holt, Martin Flo Øfstaas</p>\n",
    "    <p style=\"text-align:right;\"><i>Due: 8th of November 2024, (12:00)</i></p>\n",
    "    \n",
    "---\n",
    "\n",
    "### Data exploration:\n"
   ]
  },
  {
   "cell_type": "code",
   "execution_count": null,
   "id": "01a18919",
   "metadata": {},
   "outputs": [],
   "source": [
    "import qiskit \n",
    "from sklearn import datasets\n",
    "import matplotlib.pyplot as plt\n",
    "\n",
    "data = datasets.load_iris()\n",
    "x = data.data\n",
    "columns = data.feature_names\n",
    "y = data.target\n",
    "\n",
    "# Data exploration \n",
    "print(x.shape) # 150 samples, 4 features \n",
    "print(len(set(y))) # 3 classes\n",
    "\n",
    "# The range of values for each feature\n",
    "for column in range(x.shape[1]):\n",
    "    min_val = x[:, column].min()\n",
    "    max_val = x[:, column].max()\n",
    "    print(f\"Feature {column}: {min_val} to {max_val}\")\n",
    "\n",
    "# The distribution of the features\n",
    "plt.figure(figsize=(20, 5))\n",
    "for column in range(x.shape[1]):\n",
    "    plt.subplot(1, 4, column+1)\n",
    "    plt.hist(x[:, column], bins=20)\n",
    "    plt.title(columns[column])"
   ]
  },
  {
   "attachments": {},
   "cell_type": "markdown",
   "id": "55e454da",
   "metadata": {},
   "source": [
    "# Splitting the data "
   ]
  },
  {
   "cell_type": "code",
   "execution_count": null,
   "id": "a6fc6d40",
   "metadata": {},
   "outputs": [],
   "source": [
    "from sklearn.model_selection import train_test_split\n",
    "\n",
    "# Splitting the data into training and testing sets\n",
    "x_train, x_val_test, y_train, y_val_test = train_test_split(x, y, test_size=0.30, random_state=42, stratify=y)\n",
    "# Splitting the training set into training and validation sets\n",
    "x_val, x_test, y_val, y_test = train_test_split(x_val_test, y_val_test, test_size=0.5, random_state=42, stratify=y_val_test)"
   ]
  },
  {
   "attachments": {},
   "cell_type": "markdown",
   "id": "c3f45886",
   "metadata": {},
   "source": [
    "# Data Encoding"
   ]
  },
  {
   "cell_type": "code",
   "execution_count": null,
   "id": "4df8fc60",
   "metadata": {},
   "outputs": [],
   "source": [
    "import numpy as np\n",
    "\n",
    "#Scaling the data in range 0 to 2pi for angle encoding\n",
    "def dataScaling(x_values):\n",
    "    for i in range(x_values.shape[1]):\n",
    "        x_values[:, i] = 2 * np.pi * (x_values[:, i] - x_values[:, i].min()) / (x_values[:, i].max() - x_values[:, i].min())\n",
    "    return x_values"
   ]
  },
  {
   "attachments": {},
   "cell_type": "markdown",
   "id": "c9c0c5d8",
   "metadata": {},
   "source": [
    "# Loss function"
   ]
  },
  {
   "cell_type": "code",
   "execution_count": null,
   "id": "b53b920f",
   "metadata": {},
   "outputs": [],
   "source": [
    "def multiClassCrossEntropy(prediction, label):\n",
    "    return -(label * np.log(prediction))"
   ]
  },
  {
   "attachments": {},
   "cell_type": "markdown",
   "id": "0b4d50b2",
   "metadata": {},
   "source": [
    "# Real amplitudes"
   ]
  },
  {
   "cell_type": "code",
   "execution_count": null,
   "id": "8d7458c5",
   "metadata": {},
   "outputs": [],
   "source": [
    "def angleEncoding(feature_vector, n_qubits):\n",
    "    circuit = qiskit.QuantumCircuit(n_qubits)\n",
    "    # Input encoding\n",
    "    for i in range(n_qubits):\n",
    "        circuit.rx(feature_vector[i], i)\n",
    "    return circuit\n",
    "\n",
    "angleEncoding(x[1], 4).draw(output='mpl')\n"
   ]
  },
  {
   "cell_type": "code",
   "execution_count": null,
   "id": "e825555d",
   "metadata": {},
   "outputs": [],
   "source": [
    "import random\n",
    "import qiskit\n",
    "import numpy as np\n",
    "def paramterizedCircuit(n_qubits, n_layers):\n",
    "    circuit = qiskit.QuantumCircuit(n_qubits)\n",
    "    param = qiskit.circuit.ParameterVector('θ', n_qubits*n_layers)\n",
    "    paramindex = 0\n",
    "    for layer in range(n_layers):\n",
    "        # Paramterized layer\n",
    "        for i in range(n_qubits):\n",
    "            circuit.ry(param[paramindex], i)\n",
    "            paramindex += 1\n",
    "        # Adding barrier to separate the layers\n",
    "        circuit.barrier()\n",
    "        # Entanglement layer\n",
    "        for i in range(n_qubits-1):\n",
    "            circuit.cx(i, i+1)\n",
    "        # Adding barrier to separate the layers\n",
    "        if layer < n_layers-1:\n",
    "            circuit.barrier()\n",
    "    # Measurment \n",
    "    circuit.measure_all()\n",
    "    return circuit, param\n",
    "\n",
    "circuit, param = paramterizedCircuit(4, 2)\n",
    "params = np.random.uniform(0, 2*np.pi, len(param))\n",
    "circuit.assign_parameters({param[i]: params[i] for i in range(len(param))})\n",
    "circuit.draw(output='mpl')\n"
   ]
  },
  {
   "cell_type": "code",
   "execution_count": null,
   "id": "d5fae0cb",
   "metadata": {},
   "outputs": [],
   "source": [
    "class IrisQNN:\n",
    "    def __init__(self, n_qubits, n_layers):\n",
    "        self.n_qubits = n_qubits\n",
    "        self.n_layers = n_layers\n",
    "        self.n_params = n_qubits * n_layers\n",
    "        self.params = ParameterVector('θ', self.n_params)\n",
    "    \n",
    "    def angle_encoding(self, qc, input_features):\n",
    "        number_of_qubits = qc.num_qubits\n",
    "        for qubit in range(number_of_qubits):\n",
    "            qc.rx(input_features[qubit], qubit)\n",
    "        qc.barrier()\n",
    "        return qc\n",
    "\n",
    "    def add_variational_layer_real_amplitude(self, qc, layer_idx):\n",
    "        param_offset = layer_idx * self.n_qubits\n",
    "        for i in range(self.n_qubits):\n",
    "            qc.ry(self.params[param_offset + i], i)\n",
    "        \n",
    "        qc.barrier()\n",
    "        \n",
    "        for i in range(self.n_qubits - 1):\n",
    "            qc.cx(i, i+1)\n",
    "            \n",
    "        if layer_idx < self.n_layers - 1:\n",
    "            qc.barrier()\n",
    "            \n",
    "        return qc\n",
    "\n",
    "    def create_circuit(self, input_features):\n",
    "        qc = QuantumCircuit(self.n_qubits)\n",
    "        \n",
    "        self.angle_encoding(qc, input_features)\n",
    "        \n",
    "        for layer in range(self.n_layers):\n",
    "            self.add_variational_layer_real_amplitude(qc, layer)\n",
    "           \n",
    "        return qc\n",
    "    \n",
    "    def _get_parameter_count(self):\n",
    "        return self.n_params"
   ]
  },
  {
   "cell_type": "code",
   "execution_count": null,
   "id": "ea10befc",
   "metadata": {},
   "outputs": [],
   "source": [
    "qnn = IrisQNN(n_qubits=4, n_layers=2)\n",
    "\n",
    "feature = x_train[0]\n",
    "\n",
    "qc = qnn.create_circuit(feature)\n",
    "qc.draw('mpl')"
   ]
  }
 ],
 "metadata": {
  "kernelspec": {
   "display_name": "inf367",
   "language": "python",
   "name": "python3"
  },
  "language_info": {
   "codemirror_mode": {
    "name": "ipython",
    "version": 3
   },
   "file_extension": ".py",
   "mimetype": "text/x-python",
   "name": "python",
   "nbconvert_exporter": "python",
   "pygments_lexer": "ipython3",
   "version": "3.11.9 (main, Apr 19 2024, 11:44:45) [Clang 14.0.6 ]"
  },
  "vscode": {
   "interpreter": {
    "hash": "1615b0cd327d8253a633cac1e191dc54d6af30a426251c83f9dedd94ada34c52"
   }
  }
 },
 "nbformat": 4,
 "nbformat_minor": 5
}
